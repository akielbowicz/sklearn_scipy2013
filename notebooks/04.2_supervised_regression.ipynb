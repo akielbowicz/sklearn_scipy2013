{
 "cells": [
  {
   "cell_type": "markdown",
   "metadata": {},
   "source": [
    "# Supervised Learning: Regression of Housing Data"
   ]
  },
  {
   "cell_type": "markdown",
   "metadata": {},
   "source": [
    "By the end of this section you will\n",
    "\n",
    "- Know how to instantiate a scikit-learn regression model\n",
    "- Know how to train a regressor by calling the `fit(...)` method\n",
    "- Know how to predict new labels by calling the `predict(...)` method\n",
    "\n",
    "Here we'll do a short example of a regression problem: learning a continuous value\n",
    "from a set of features.\n",
    "\n",
    "We'll use the simple Boston house prices set, available in scikit-learn.  This\n",
    "records measurements of 13 attributes of housing markets around Boston, as well\n",
    "as the median price.  The question is: can you predict the price of a new\n",
    "market given its attributes?\n",
    "\n",
    "First we'll load the dataset:"
   ]
  },
  {
   "cell_type": "code",
   "execution_count": null,
   "metadata": {},
   "outputs": [],
   "source": [
    "from sklearn.datasets import load_boston\n",
    "data = load_boston()\n",
    "print(data.keys())"
   ]
  },
  {
   "cell_type": "markdown",
   "metadata": {},
   "source": [
    "We can see that there are just over 500 data points:"
   ]
  },
  {
   "cell_type": "code",
   "execution_count": null,
   "metadata": {},
   "outputs": [],
   "source": [
    "print(data.data.shape)\n",
    "print(data.target.shape)"
   ]
  },
  {
   "cell_type": "markdown",
   "metadata": {},
   "source": [
    "The ``DESCR`` variable has a long description of the dataset:"
   ]
  },
  {
   "cell_type": "code",
   "execution_count": null,
   "metadata": {},
   "outputs": [],
   "source": [
    "print(data.DESCR)"
   ]
  },
  {
   "cell_type": "markdown",
   "metadata": {},
   "source": [
    "It often helps to quickly visualize pieces of the data using histograms, scatter plots,\n",
    "or other plot types.  Here we'll load pylab and show a histogram of the target values:\n",
    "the median price in each neighborhood."
   ]
  },
  {
   "cell_type": "code",
   "execution_count": null,
   "metadata": {},
   "outputs": [],
   "source": [
    "%pylab inline"
   ]
  },
  {
   "cell_type": "code",
   "execution_count": null,
   "metadata": {},
   "outputs": [],
   "source": [
    "plt.hist(data.target)\n",
    "plt.xlabel('price ($1000s)')\n",
    "plt.ylabel('count')"
   ]
  },
  {
   "cell_type": "markdown",
   "metadata": {},
   "source": [
    "**Quick Exercise:** Try some scatter plots of the features versus the target.\n",
    "\n",
    "Are there any features that seem to have a strong correlation with the\n",
    "target value?  Any that don't?\n",
    "\n",
    "Remember, you can get at the data columns using:\n",
    "\n",
    "    column_i = data.data[:, i]"
   ]
  },
  {
   "cell_type": "code",
   "execution_count": null,
   "metadata": {},
   "outputs": [],
   "source": []
  },
  {
   "cell_type": "markdown",
   "metadata": {},
   "source": [
    "This is a manual version of a technique called **feature selection**.\n",
    "\n",
    "Sometimes, in Machine Learning it is useful to use \n",
    "feature selection to decide which features are most useful for a\n",
    "particular problem.  Automated methods exist which quantify this sort\n",
    "of exercise of choosing the most informative features.  We won't cover\n",
    "feature selection in this tutorial, but you can read about it elsewhere."
   ]
  },
  {
   "cell_type": "markdown",
   "metadata": {},
   "source": [
    "## Predicting Home Prices: a Simple Linear Regression"
   ]
  },
  {
   "cell_type": "markdown",
   "metadata": {},
   "source": [
    "Now we'll use ``scikit-learn`` to perform a simple linear regression\n",
    "on the housing data.  There are many possibilities of regressors to\n",
    "use. A particularly simple one is ``LinearRegression``: this is\n",
    "basically a wrapper around an ordinary least squares calculation.\n",
    "\n",
    "We'll set it up like this:"
   ]
  },
  {
   "cell_type": "code",
   "execution_count": null,
   "metadata": {},
   "outputs": [],
   "source": [
    "from sklearn.cross_validation import train_test_split\n",
    "\n",
    "X_train, X_test, y_train, y_test = train_test_split(data.data, data.target)"
   ]
  },
  {
   "cell_type": "code",
   "execution_count": null,
   "metadata": {},
   "outputs": [],
   "source": [
    "from sklearn.linear_model import LinearRegression\n",
    "\n",
    "clf = LinearRegression()\n",
    "\n",
    "clf.fit(X_train, y_train)"
   ]
  },
  {
   "cell_type": "code",
   "execution_count": null,
   "metadata": {},
   "outputs": [],
   "source": [
    "predicted = clf.predict(X_test)\n",
    "expected = y_test"
   ]
  },
  {
   "cell_type": "code",
   "execution_count": null,
   "metadata": {},
   "outputs": [],
   "source": [
    "plt.scatter(expected, predicted)\n",
    "plt.plot([0, 50], [0, 50], '--k')\n",
    "plt.axis('tight')\n",
    "plt.xlabel('True price ($1000s)')\n",
    "plt.ylabel('Predicted price ($1000s)')\n",
    "print(\"RMS:\", np.sqrt(np.mean((predicted - expected) ** 2)))"
   ]
  },
  {
   "cell_type": "markdown",
   "metadata": {},
   "source": [
    "The prediction at least correlates with the true price, though there\n",
    "are clearly some biases.  We could imagine evaluating the performance\n",
    "of the regressor by, say, computing the RMS residuals between the\n",
    "true and predicted price.  There are some subtleties in this, however,\n",
    "which we'll cover in a later section."
   ]
  },
  {
   "cell_type": "markdown",
   "metadata": {},
   "source": [
    "There are many examples of regression-type problems in machine learning\n",
    "\n",
    "- **Sales:** given consumer data, predict how much they will spend\n",
    "- **Advertising:** given information about a user, predict the click-through rate for a web ad.\n",
    "- **Collaborative Filtering:** given a collection of user-ratings for movies, predict preferences for other movies & users\n",
    "- **Astronomy:** given observations of galaxies, predict their mass or redshift\n",
    "\n",
    "And much, much more."
   ]
  },
  {
   "cell_type": "markdown",
   "metadata": {},
   "source": [
    "## Exercise: Gradient Boosting Tree Regression"
   ]
  },
  {
   "cell_type": "markdown",
   "metadata": {},
   "source": [
    "There are many other types of regressors available in scikit-learn:\n",
    "we'll try a more powerful one here.\n",
    "\n",
    "**Use the GradientBoostingRegressor class to fit the housing data**.\n",
    "\n",
    "You can copy and paste some of the above code, replacing `LinearRegression`\n",
    "with `GradientBoostingRegressor`."
   ]
  },
  {
   "cell_type": "code",
   "execution_count": null,
   "metadata": {},
   "outputs": [],
   "source": [
    "from sklearn.ensemble import GradientBoostingRegressor\n",
    "# Instantiate the model, fit the results, and scatter in vs. out\n"
   ]
  },
  {
   "cell_type": "markdown",
   "metadata": {},
   "source": [
    "### Solution:"
   ]
  },
  {
   "cell_type": "code",
   "execution_count": null,
   "metadata": {},
   "outputs": [],
   "source": [
    "%load solutions/04B_houses_regression.py"
   ]
  }
 ],
 "metadata": {
  "kernelspec": {
   "display_name": "Python 3",
   "language": "python",
   "name": "python3"
  },
  "language_info": {
   "codemirror_mode": {
    "name": "ipython",
    "version": 3
   },
   "file_extension": ".py",
   "mimetype": "text/x-python",
   "name": "python",
   "nbconvert_exporter": "python",
   "pygments_lexer": "ipython3",
   "version": "3.6.5"
  }
 },
 "nbformat": 4,
 "nbformat_minor": 1
}
